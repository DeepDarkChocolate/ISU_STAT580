{
 "cells": [
  {
   "cell_type": "markdown",
   "metadata": {},
   "source": [
    "# Problem 1"
   ]
  },
  {
   "cell_type": "markdown",
   "metadata": {},
   "source": [
    "## How to compile\n",
    "gcc -c mat_vec.c -Wall -pedantic\n",
    "\n",
    "gcc -c eval.c -Wall -pedantic\n",
    "\n",
    "gcc -o testeval testeval.c eval.o mat_vec.o -Wall -pedantic -lm -llapack"
   ]
  },
  {
   "cell_type": "markdown",
   "metadata": {},
   "source": [
    "## How to use and test the funcion\n",
    "\n",
    "*evd* function in eval.c calculates the eigenvalues of a positive definite matrix A using LAPACK package.\n",
    "\n",
    "You may test this function comparing with eigen.R R script.\n",
    "\n",
    "Both *testeval* and *eigen.R* computes the eigenvector and eigenvalue of a symmetric matrix\n",
    "\n",
    "![mat.png](mat.png)\n",
    "\n",
    "We can see that both R and c codes return the same eigen values and eigen vector.\n",
    "\n",
    "## R results\n",
    "\n",
    "![mat.png](Rresults.png)\n",
    "\n",
    "## C results\n",
    "\n",
    "![mat.png](Cresults.png)\n",
    "\n",
    "To test whether they are reliable, one can use\n",
    "\n",
    "$$\n",
    "P\\Lambda P^T = A, \\ \\ P^TP = I\n",
    "$$\n",
    "\n",
    "For instance, from R results, we can observe that\n",
    "\n",
    "![mat.png](test.png)\n",
    "\n",
    "Hence, we can say the eigenvalues and eigenvectors computed in R code are accurate."
   ]
  },
  {
   "cell_type": "markdown",
   "metadata": {},
   "source": [
    "# Problem 2"
   ]
  },
  {
   "cell_type": "markdown",
   "metadata": {},
   "source": [
    "## How to compile\n",
    "gcc -Wall -pedantic -o RmathGamma RmathGamma.c -lRmath"
   ]
  },
  {
   "cell_type": "markdown",
   "metadata": {},
   "source": [
    "## Results\n",
    "log(f(0.5 | shape = 1, rate = 0.5)) = -0.306853\n",
    "\n",
    "log(f(1 | shape = 1, rate = 0.5)) = -1.30685\n",
    "\n",
    "log(f(2 | shape = 1, rate = 0.5)) = -3.30685\n",
    "\n",
    "log(f(0.5 | shape = 2, rate = 0.5)) = -0.306853\n",
    "\n",
    "log(f(1 | shape = 2, rate = 0.5)) = -0.613706\n",
    "\n",
    "log(f(2 | shape = 2, rate = 0.5)) = -1.92056\n",
    "\n",
    "log(f(0.5 | shape = 3, rate = 0.5)) = -1\n",
    "\n",
    "log(f(1 | shape = 3, rate = 0.5)) = -0.613706\n",
    "\n",
    "log(f(2 | shape = 3, rate = 0.5)) = -1.22741\n",
    "\n",
    "log(f(0.5 | shape = 1, rate = 1)) = -0.5\n",
    "\n",
    "log(f(1 | shape = 1, rate = 1)) = -1\n",
    "\n",
    "log(f(2 | shape = 1, rate = 1)) = -2\n",
    "\n",
    "log(f(0.5 | shape = 2, rate = 1)) = -1.19315\n",
    "\n",
    "log(f(1 | shape = 2, rate = 1)) = -1\n",
    "\n",
    "log(f(2 | shape = 2, rate = 1)) = -1.30685\n",
    "\n",
    "log(f(0.5 | shape = 3, rate = 1)) = -2.57944\n",
    "\n",
    "log(f(1 | shape = 3, rate = 1)) = -1.69315\n",
    "\n",
    "log(f(2 | shape = 3, rate = 1)) = -1.30685\n",
    "\n",
    "log(f(0.5 | shape = 1, rate = 2)) = -0.943147\n",
    "\n",
    "log(f(1 | shape = 1, rate = 2)) = -1.19315\n",
    "\n",
    "log(f(2 | shape = 1, rate = 2)) = -1.69315\n",
    "\n",
    "log(f(0.5 | shape = 2, rate = 2)) = -2.32944\n",
    "\n",
    "log(f(1 | shape = 2, rate = 2)) = -1.88629\n",
    "\n",
    "log(f(2 | shape = 2, rate = 2)) = -1.69315\n",
    "\n",
    "log(f(0.5 | shape = 3, rate = 2)) = -4.40888\n",
    "\n",
    "log(f(1 | shape = 3, rate = 2)) = -3.27259\n",
    "\n",
    "log(f(2 | shape = 3, rate = 2)) = -2.38629"
   ]
  },
  {
   "cell_type": "markdown",
   "metadata": {},
   "source": [
    "# Problem 3"
   ]
  },
  {
   "cell_type": "markdown",
   "metadata": {},
   "source": [
    "## How to compile\n",
    "\n",
    "R CMD SHLIB skewkt_Call.c\n",
    "\n",
    "Then run:\n",
    "\n",
    "Rscript run_skewkt_Call.R"
   ]
  },
  {
   "cell_type": "markdown",
   "metadata": {},
   "source": [
    "## Results\n",
    "The example results are as follows\n",
    "\n",
    "Skew estimated in C: 2910.828\n",
    "\n",
    "Skew estimated in R: 2910.828 \n",
    "\n",
    "We can see that the computation time is much longer when we use r based functions."
   ]
  }
 ],
 "metadata": {
  "kernelspec": {
   "display_name": "Python 3",
   "language": "python",
   "name": "python3"
  },
  "language_info": {
   "codemirror_mode": {
    "name": "ipython",
    "version": 3
   },
   "file_extension": ".py",
   "mimetype": "text/x-python",
   "name": "python",
   "nbconvert_exporter": "python",
   "pygments_lexer": "ipython3",
   "version": "3.7.6"
  }
 },
 "nbformat": 4,
 "nbformat_minor": 4
}
