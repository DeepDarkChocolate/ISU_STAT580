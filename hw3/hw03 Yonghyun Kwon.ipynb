{
 "cells": [
  {
   "cell_type": "markdown",
   "metadata": {},
   "source": [
    "# Finding eigenvectors using power method\n",
    "## How to compile\n",
    "gcc eigen_ftn.c eigen_main.c mat_vec.c -o eigen -lm -pedantic -Wall"
   ]
  },
  {
   "cell_type": "markdown",
   "metadata": {},
   "source": [
    "## What it does\n",
    "*eigen* function computes the eigen valuesd and corresponding eigen vectors of a positive definite symmetric matrix using power method. Note that the function takes in a function pointer which defined the multiplication of CCS format matrix. For instance, *ccsprod* multplies CCS_format matrix with a vector while *ccsprod_sym* is for multiplication of symmetric CCS_format matrix with a vector. *eigen_ftn.c* contains functions to try power method, and *eigen_main.c* illustrate this function using a simple example.\n",
    "\n",
    "In *eigen_main.c* function, an example code is executed. It finds a eigenvectors and eigenvalues of a following matrix using power method.\n",
    "\n",
    "![mat.png](mat.png)\n",
    "\n",
    "Theoretically, its eigenvalues are 10, 9, 8, ..., 1, and we can see that *eigen* function returns these values in a main function. Furthermore, we can see that $P^TP$ is similar to identity matrix."
   ]
  },
  {
   "cell_type": "markdown",
   "metadata": {},
   "source": [
    "# k-nearest neighborhood\n",
    "## How to compile\n",
    "gcc neighbor_main.c neighbor_ftn.c -o neighbor -lm -pedantic -Wall"
   ]
  },
  {
   "cell_type": "markdown",
   "metadata": {},
   "source": [
    "## What it does\n",
    "\n",
    "In *neighbor.c* file, k-nearest neighborhood is computed using a function pointer that defines a similarity measure *s*. We consider a correlation function for such a similarity measure. Note that it is possible to have several k-nearest neighbors. In this case this function returns first k-nearest neighbor that it can find. We can use either *corr* or *corrCoef* function pointer to measure the correlation but it turns out that the latter one works faster than the former.\n",
    "\n",
    "*n_k* function returns zero if $i$ and $j$ are not among the $k$ nearest neighbors of each other and 1 if they both are among the $k$ nearest neighbor to another observation. *n_k2* function prints out those observations that are not a $K$-nearest neighbor to another observation.\n",
    "\n",
    "Example datamatrix and its correlation matrix in *neighbor_main.c* are as follows\n",
    "\n",
    "![datamat.png](datamat.png)\n",
    "![datamat.png](cormat.png)\n",
    "\n",
    "In the main funcion, we can see that the number of nonzero elements in $W$ increases as k becomes larger. Also, one can observe that second and fourth observation can be seen as so-called \"isolate points\" because they are not a k-nearest neighbor to another observation."
   ]
  },
  {
   "cell_type": "markdown",
   "metadata": {},
   "source": [
    "# Eigenvectors of standardized graph Laplacian Matrix\n",
    "## How to compile\n",
    "gcc graph_main.c graph_ftn.c mat_vec.c neighbor_ftn.c eigen_ftn.c -o graph -lm -pedantic -Wall"
   ]
  },
  {
   "cell_type": "markdown",
   "metadata": {},
   "source": [
    "## What it does\n",
    "Using the functions defined in problem 1 and problem 2, find the eigenvectors of graph Laplacian Matrix. Note that suggested graph Laplacian Matrix is not symmetic matrix, so it would not be easy to\n",
    "\n",
    "Therefore, we instead consider the Laplacian matrix $L = I - G^{-1/2}WG^{-1/2}$, so that we can still use the css multiplication form of a symmetric matrix.\n",
    "\n",
    "Note that the dominating process in this function is when obtaining the correlation matrix $W$. Even though it computes the lower triangular part of a matrix, it still requires a lot of time to be computed.\n",
    "\n",
    "We consider the first 20 observations to test this function. Suppose $k = 3$, $m = 10$, and $\\rho = 0.5$.\n",
    "\n",
    "It turns out that the matrix consisting of eigenvector is\n",
    "\n",
    "![eigen.png](eigen.png)\n",
    "\n",
    "And the corresponding eigenvalues are\n",
    "\n",
    "1.000000, 1.000000, 1.000000, 1.000000, 0.833333, 0.333333, 0.999610, 0.854681, 0.270704, 0.492125\n",
    "\n",
    "We can see that the eigenvalues are not necessarily listed in a decreasing order."
   ]
  },
  {
   "cell_type": "markdown",
   "metadata": {},
   "source": [
    "# Microarray gene expression data\n",
    "## How to compile\n",
    "gcc diurnal_main.c graph_ftn.c mat_vec.c neighbor_ftn.c eigen_ftn.c -o diurnal -lm -pedantic -Wall"
   ]
  },
  {
   "cell_type": "markdown",
   "metadata": {},
   "source": [
    "## What it does\n",
    "\n",
    "We may provide plots of the eigenvectors for different values of $k, \\rho$, and $m$. The row index refers to different 22,810 genes and column index refers to the eigenvector. As an element of an image is darker(closer to red), it means that it has larger value. \n",
    "\n",
    "### $m$ = 10\n",
    "\n",
    "when $k = 10, \\rho = 0.99$\n",
    "\n",
    "![correlated.png](evecs-10-10-0.99.png)\n",
    "\n",
    "eigenvalues are\n",
    "\n",
    "1.000000, 0.990903, 0.992575, 0.976974, 1.000000, 0.964016, 1.000000, 0.999998, 0.999987, 0.999996\n",
    "\n",
    "when $k = 10, \\rho = 0.9$\n",
    "\n",
    "![correlated.png](evecs-10-10-0.9.png)\n",
    "\n",
    "eigenvalues are\n",
    "\n",
    "1.000000, 0.993385, 0.992235, 0.993210, 0.992455, 0.991228, 0.991488, 0.999819, 0.991798, 0.989906\n",
    "\n",
    "when $k = 3, \\rho = 0.99$\n",
    "\n",
    "![correlated.png](evecs-3-10-0.99.png)\n",
    "\n",
    "eigenvalues are\n",
    "\n",
    "1.000000, 0.961815, 1.000000, 0.962020, 1.000000, 0.954808, 1.000000, 0.977381, 0.966784, 1.000000\n",
    "\n",
    "when $k = 3, \\rho = 0.9$\n",
    "\n",
    "![correlated.png](evecs-3-10-0.9.png)\n",
    "\n",
    "eigenvalues are\n",
    "\n",
    "1.000000, 0.997873, 0.997841, 0.997725, 0.997745, 0.997755, 0.997847, 0.998037, 0.997547, 0.997715"
   ]
  },
  {
   "cell_type": "markdown",
   "metadata": {},
   "source": [
    "### $m$ = 20\n",
    "\n",
    "when $k = 3, \\rho = 0.99$\n",
    "\n",
    "![correlated.png](evecs-3-20-0.99.png)\n",
    "\n",
    "eigenvalues are\n",
    "\n",
    "1.000000, 0.961815, 1.000000, 0.962020, 1.000000, 0.954808, 1.000000, 0.977381, 0.966784, 1.000000, 0.983982, 0.954315, 1.000000, 1.000000, 1.000000, 1.000000, 1.000000, 1.000000, 1.000000, 1.000000"
   ]
  },
  {
   "cell_type": "markdown",
   "metadata": {},
   "source": [
    "## Conclusion\n",
    "\n",
    "Note that the eigenvector finds highly correlated genes as a result. For instance, for $k = 10, m = 10, \\rho = 0.99$ case, the first five highest elements in the first eigenvector is of **259970_at, 263122_at, 258677_at, 248080_at, 264692_at**.(7741, 4589 ,9034, 19631, 3019-th row of the data matrix) Its correlation matrix is almost all equal to 1, which implies that all of them are highly correlated.\n",
    "\n",
    "![correlated.png](correlated.png)\n",
    "\n",
    "In this way, we can find those genes that are highly correlated by setting appropriate valeus of $k, \\rho$, and $m$"
   ]
  },
  {
   "cell_type": "markdown",
   "metadata": {},
   "source": [
    "# All possible strings of *ACGT*\n",
    "## How to compile\n",
    "gcc acgt.c -o acgt\n",
    "\n",
    "You may set strlen = 16 and max = 4^16 if you want.\n",
    "\n"
   ]
  }
 ],
 "metadata": {
  "kernelspec": {
   "display_name": "Python 3",
   "language": "python",
   "name": "python3"
  },
  "language_info": {
   "codemirror_mode": {
    "name": "ipython",
    "version": 3
   },
   "file_extension": ".py",
   "mimetype": "text/x-python",
   "name": "python",
   "nbconvert_exporter": "python",
   "pygments_lexer": "ipython3",
   "version": "3.7.6"
  }
 },
 "nbformat": 4,
 "nbformat_minor": 2
}
