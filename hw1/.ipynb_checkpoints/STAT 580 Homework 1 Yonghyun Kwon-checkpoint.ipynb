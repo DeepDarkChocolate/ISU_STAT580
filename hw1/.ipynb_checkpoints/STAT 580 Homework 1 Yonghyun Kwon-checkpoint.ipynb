{
 "cells": [
  {
   "cell_type": "markdown",
   "metadata": {},
   "source": [
    "# Problem 1\n",
    "Proof by Mathematical Induction:"
   ]
  },
  {
   "cell_type": "markdown",
   "metadata": {},
   "source": [
    "## step 1\n",
    "If n = 1, $(X_1)\\mathrm{mod1} = X_1 \\sim U(0,1)$"
   ]
  },
  {
   "cell_type": "markdown",
   "metadata": {},
   "source": [
    "## step 2\n",
    "\n",
    "Suppose it is true for $n$ and write $\\{x\\} =(x)\\mathrm{mod1} = x - \\left \\lfloor{x}\\right \\rfloor$: the fractional part of $x$. Then\n",
    "\n",
    "$\\{\\sum_{i=1}^{n+1}X_i\\} = \\{\\sum_{i=1}^{n}X_i + X_{n+1}\\} = \\{\\{\\sum_{i=1}^{n}X_i\\} + \\{X_{n+1}\\}\\}$\n",
    "\n",
    "By the assumption, $\\{\\sum_{i=1}^{n}X_i\\} \\sim U(0, 1) \\perp \\!\\!\\! \\perp \\{X_{n+1}\\} \\sim U(0, 1)$\n",
    "\n",
    "Hence, it is only left to show that\n",
    "\n",
    "$$\n",
    "\\{U_1 + U_2\\} \\sim U(0,1) \\ \\ \\mathrm{where} \\ U_1, U_2 \\stackrel{iid}{\\sim} U(0,1)\n",
    "$$\n",
    "\n",
    "Recall that(convolution formula)\n",
    "\n",
    "$$\n",
    "f_{X+Y}(a) = \\int_\\infty^\\infty f_Y(a-x)f_X(x)dx\n",
    "$$\n",
    "\n",
    "so the probability density function of $U_1 + U_2$ is\n",
    "\n",
    "\\begin{align*}\n",
    "f_{U_1+U_2}(u) &= \\int_\\infty^\\infty f_{U_2}(u-t)f_{U_1}(t)dt \\\\\n",
    "&= \\int_0^1 f_{U_2}(u-t)dt \\\\\n",
    "&=\n",
    "\\begin{cases}\n",
    "\\int_0^udt = u & \\text{$0<u\\leq1$}\\\\\n",
    "\\int_{u-1}^1dt = 2-u & \\text{$1<u<2$}\\\\\n",
    "\\end{cases}\n",
    "\\end{align*}\n",
    "\n",
    "Hence, for $0\\leq u \\leq 1$,\n",
    "\\begin{align*}\n",
    "P(\\{U_1 + U_2\\} \\leq u) &= P(\\{U_1 + U_2\\} \\leq u \\land U_1 + U_2 \\leq 1) + P(\\{U_1 + U_2\\} \\leq u \\land U_1 + U_2 > 1) \\\\\n",
    "&= P(U_1 + U_2 \\leq u) + P(1 < U_1 + U_2 \\leq u + 1) \\\\\n",
    "&= \\int_0^utdt + \\int_1^{u+1}(2-t)dt \\\\\n",
    "&= \\frac{1}{2}u^2 + (u - \\frac{1}{2}u^2) = u\n",
    "\\end{align*}\n",
    "\n",
    "Clearly, if $u < 0$, $P(\\{U_1 + U_2\\} \\leq u) = 0$ and if $u > 1$, $P(\\{U_1 + U_2\\} \\leq u) = 1$\n",
    "\n",
    "This implies ${U_1 + U_2} \\sim U(0,1)$\n",
    "\n",
    "Thus, the assumption is true for n + 1."
   ]
  },
  {
   "cell_type": "markdown",
   "metadata": {},
   "source": [
    "# Problem 2"
   ]
  },
  {
   "cell_type": "markdown",
   "metadata": {},
   "source": [
    "## Lemma\n",
    "Suppose $F$ is a cumulative distribution function of a random variable and $u \\in (0,1)$ and $x \\in \\mathbb{R}$\n",
    "$$\n",
    "F^{-1}(u) \\leq x \\Leftrightarrow u \\leq F(x)\n",
    "$$\n",
    "proof:\n",
    "\n",
    "$(\\Rightarrow):$ By definition of $F^{-1}$, and since $F$ is nondecreasing function,\n",
    "$u \\leq F(F^{-1}(u)) \\leq F(x)$\n",
    "\n",
    "$(\\Leftarrow):$ By definition of $F^{-1}$, for any $y$ such that $F(y) \\geq u, F^{-1}(u) \\leq y$. \n",
    "By the assumption, $F(x) \\geq u$, which implies $F^{-1}(u) \\leq x$. $\\Box$"
   ]
  },
  {
   "cell_type": "markdown",
   "metadata": {},
   "source": [
    "From the lemma above, we can show the following:\n",
    "\n",
    "For $x \\in \\mathbb{R}$, \n",
    "$$\n",
    "P(F^{-1}(U) \\leq x) = P(U \\leq F(x)) = F(x)\n",
    "$$\n",
    "\n",
    "This implies $F^{-1}(U) \\sim F$"
   ]
  },
  {
   "cell_type": "markdown",
   "metadata": {},
   "source": [
    "# Problem 3\n",
    "\n",
    "## (a)\n",
    "\n",
    "Box-Muller Algorithm\n",
    "\n",
    "i) Sampple $U_1, U_2 \\stackrel{iid}{\\sim} U(0,1)$\n",
    "\n",
    "ii) Compute $R = \\sqrt{-2\\ln U_1}, \\theta = 2\\pi U_2$\n",
    "\n",
    "iii) Compute $X = R\\cos\\theta, Y = R\\sin\\theta$\n",
    "\n",
    "Then $(X, Y) \\sim N_2(0, I_2)$\n",
    "\n",
    "proof) Note that $(X, Y)$  and $(R, \\theta)$ are one-to-one and onto.\n",
    "\n",
    "Suppose $(X, Y) \\sim N_2(0, I_2)$ and find the distribution of $(R, \\theta)$.\n",
    "\n",
    "\\begin{align*}\n",
    "f_{R, \\theta}(r, \\theta) &= f_{X, Y}(r\\cos\\theta, r\\sin\\theta)|r| \\\\\n",
    "&= \\frac{1}{2\\pi}\\exp(-\\frac{1}{2}r^2)rI\\{r > 0\\} I\\{0<\\theta<2\\pi\\}\n",
    "\\end{align*}\n",
    "\n",
    "Since the joint pdf is splitted into two functions of $\\theta$ and $r$, $\\theta$ and $R$ are independent.\n",
    "\n",
    "Now integrating with respect to $\\theta$, $f_R(r) = \\exp(-\\frac{1}{2}r^2)rI\\{r > 0\\}$, which implies $f_\\theta(\\theta) = \\frac{1}{2\\pi} I\\{0<\\theta<2\\pi\\}$, so $\\theta \\stackrel{d}{=}2\\pi U(0,1)$\n",
    "\n",
    "Now suppose $R = \\sqrt{-2\\ln V}$ then\n",
    "\n",
    "\\begin{align*}\n",
    "f_V(v) &= f_R(\\sqrt{-2\\ln v})\\frac{1}{v\\sqrt{-2\\ln v}} \\\\\n",
    "&= \\exp (\\ln v)\\sqrt{-2\\ln v}\\frac{1}{v\\sqrt{-2\\ln v}}I\\{0<v<1\\} \\\\\n",
    "&= I\\{0<v<1\\}\n",
    "\\end{align*}\n",
    "\n",
    "Thus, $R \\stackrel{d}{=} \\sqrt{-2\\ln U_1} \\perp \\!\\!\\! \\perp  \\theta \\stackrel{d}{=} 2\\pi U_2$ $\\Box$"
   ]
  },
  {
   "cell_type": "markdown",
   "metadata": {},
   "source": [
    "## (b)\n",
    "\n",
    "Polar Algorithm:\n",
    "\n",
    "i) Sample $V_1, V_2 \\stackrel{iid}{\\sim} U(-1,1)$ until $V_1^2 + V_2^2 < 1$\n",
    "\n",
    "ii) Compute $W = V_1^2 + V_2^2, \\ \\ c = \\sqrt{-2W^{-1}\\ln W}$\n",
    "\n",
    "iii) Return $X = cV_1, \\ \\ Y = cV_2$\n",
    "\n",
    "proof) Consider the distribution of $V_1, V_2 | V_1^2 + V_2^2 < 1$ then\n",
    "\n",
    "$$\n",
    "f_{V_1, V_2 | V_1^2 + V_2^2 < 1}(v_1, v_2) = \\frac{1}{\\pi}I\\{ v_1^2 + v_2^2 < 1\\}\n",
    "$$\n",
    "\n",
    "Write $V_1 = T\\cos\\theta, V_2 = T\\sin\\theta$, where $0<\\theta<2\\pi, \\ \\ 0<T<1$\n",
    "\n",
    "Then $(V_1, V_2)$ and $(T, \\theta)$ are one to one and onto.\n",
    "\n",
    "Then the joint distribution of $(T, \\theta)$ is\n",
    "\n",
    "\\begin{align*}\n",
    "f_{T\\theta}(t, \\theta) &= f_{V_1 V_2}(v_1, v_2)\\Big|\\frac{\\partial (v_1, v_2)}{\\partial (t, \\theta)}\\Big| \\\\\n",
    "&= \\frac{1}{2\\pi}I\\{0<\\theta <2 \\pi \\} 2t I\\{0<t <1 \\}\n",
    "\\end{align*}\n",
    "Since the joint distribution is splited into function of $\\theta$ and function of $t$, $\\theta$ and $T$ are independent and\n",
    "\n",
    "$$\n",
    "\\theta \\sim U(0,1) \\perp \\!\\!\\! \\perp T \\sim f_T(t) = 2tI\\{0<t <1 \\}\n",
    "$$\n",
    "\n",
    "Observe that\n",
    "\n",
    "\\begin{gather*}\n",
    "W = V_1^2 + V_2^2 = T^2 \\\\\n",
    "c = \\frac{2\\sqrt{-\\log T}}{T} \\\\\n",
    "X = cV_1 = 2\\sqrt{-\\log T} \\cos\\theta \\\\\n",
    "Y = cV_2 = 2\\sqrt{-\\log T} \\sin\\theta\n",
    "\\end{gather*}\n",
    "\n",
    "The distribution of $R = 2\\sqrt{-\\log T}$ is\n",
    "\n",
    "\\begin{align*}\n",
    "f_R(r) &= f_T(t)\\Big|\\frac{\\partial t}{\\partial r}\\Big| \\\\\n",
    "&= 2e^{-r^2/4}I\\{r>0\\}\\frac{r}{2} e^{-r^2/4} \\\\\n",
    "&= r e^{-r^2/2}I\\{r>0\\}\n",
    "\\end{align*}\n",
    "\n",
    "since $T = \\exp ( {-\\frac{R^2}{4}} ), \\ \\ \\frac{\\partial T}{\\partial R} = -\\frac{R}{2}\\exp( {-\\frac{R^2}{4}} )$\n",
    "\n",
    "Note, however, that we have shown that $(R\\cos\\theta, R\\sin\\theta) \\sim N_2(0, I_2)$ if $R \\sim f_R(r) = \\exp(-\\frac{1}{2}r^2)rI\\{r > 0\\} \\perp \\!\\!\\! \\perp  \\theta \\sim f_\\theta(\\theta) = \\frac{1}{2\\pi} I\\{0<\\theta<2\\pi\\}$ in problem 3 (a). Thus, we conclude that $(X, Y) \\sim N_2(0, I_2)$. $\\Box$"
   ]
  },
  {
   "cell_type": "markdown",
   "metadata": {},
   "source": [
    "\n",
    "# Problem 4\n",
    "## (a) Generating method\n",
    "\n",
    "We try to sample from the truncated normal distribution $X = Z | Z > d$ where $Z \\sim N(0,1)$.\n",
    "\n",
    "That is, $f_X(x) = c_1\\exp (-x^2/2)I\\{x>d\\}$, where $c_1$ is normalizing constant.\n",
    "\n",
    "Set an envelop $Y$ as $Y = \\sqrt{V + d^2}$ where $V \\sim \\mathrm{exp}(2)$.\n",
    "\n",
    "Applying changing of variables, we get\n",
    "\n",
    "$$\n",
    "f_Y(y) = y e^{-\\frac{y^2-d^2}{2}}I\\{y > d\\}\n",
    "$$\n",
    "\n",
    "To choose an envelop constant $c_2$, find  $c_2$ such that $c_2 f_Y(x) \\geq f_X(x)$ for any $x > d$.\n",
    "\n",
    "$$\n",
    "c_1 \\exp (-\\frac{1}{2}x^2) \\leq c_2 x \\exp (-\\frac{x^2-d^2}{2}) \\\\\n",
    "\\iff c_2 \\geq \\frac{c_1}{x}e^{-\\frac{d^2}{2}} \\\\\n",
    "\\Rightarrow \\mathrm{set} \\ \\ c_2 = \\frac{c_1}{d}e^{-\\frac{d^2}{2}}\n",
    "$$\n",
    "\n",
    "Now we will accept $Y$ if\n",
    "\n",
    "\\begin{align*}\n",
    "&f_X(Y) > U c_2 f_Y(Y) \\\\\n",
    "&\\iff c_1 \\exp (-\\frac{1}{2}Y^2) \\leq U \\frac{c_1}{d}e^{-\\frac{d^2}{2}} Y \\exp (-\\frac{Y^2-d^2}{2}) \\\\\n",
    "&\\iff U < \\frac{d}{Y}\n",
    "\\end{align*}\n",
    "\n",
    "To summarize, the generating method is\n",
    "\n",
    "i) Generate $Y = \\sqrt{V + d^2}$ where $V \\sim \\mathrm{exp}(2)$\n",
    "\n",
    "ii) Generate $U \\sim U(0,1)$\n",
    "\n",
    "iii) If $U < \\frac{d}{Y}$, select $Y$, otherwise, go back to step i).\n",
    "\n",
    "Here is the code to generate random deviates and acceptance rate. *rtnorm* generates random deviates from truncated standard normal distribution."
   ]
  },
  {
   "cell_type": "code",
   "execution_count": 1,
   "metadata": {},
   "outputs": [],
   "source": [
    "rtnorm <- function(n, d,..., rate = FALSE){\n",
    "  res <- c() # random deviates\n",
    "  if(rate == FALSE){ # Only generate random deviates\n",
    "    for(i in 1:n){\n",
    "      while(TRUE){\n",
    "        y = sqrt(rexp(n = 1, rate = 1/2) + d^2)\n",
    "        u = runif(1)\n",
    "        if(u < d / y){\n",
    "          res <- c(res, y)\n",
    "          break\n",
    "        }\n",
    "      }\n",
    "    }\n",
    "    return(res)\n",
    "  }else if(rate == TRUE){ # Also compute the acceptance rate\n",
    "    cnt = 0 # number of all trials\n",
    "    for(i in 1:n){\n",
    "      while(TRUE){\n",
    "        cnt = cnt + 1\n",
    "        y = sqrt(rexp(n = 1, rate = 1/2) + d^2)\n",
    "        u = runif(1)\n",
    "        if(u < d / y){\n",
    "          res <- c(res, y)\n",
    "          break\n",
    "        }\n",
    "      }\n",
    "    }\n",
    "    return(list(res = res, rate = n / cnt))\n",
    "  }\n",
    "}"
   ]
  },
  {
   "cell_type": "markdown",
   "metadata": {},
   "source": [
    "*acceptance* function computes theoretical acceptance rate. Since $c_1 = \\frac{1}{\\Phi^{-1}(-d)\\sqrt{2 \\pi}}$, the acceptance rate is\n",
    "\n",
    "$$\n",
    "\\frac{1}{c_2}= \\frac{d}{c_1}e^{\\frac{d^2}{2}} = \\Phi^{-1}(-d)\\sqrt{2 \\pi} d e^{\\frac{d^2}{2}}\n",
    "$$"
   ]
  },
  {
   "cell_type": "code",
   "execution_count": 2,
   "metadata": {},
   "outputs": [],
   "source": [
    "acceptrate <- function(d){\n",
    "  return(1/(1/pnorm(-d)/sqrt(2*pi)*exp(-d^2/2)/d))\n",
    "}"
   ]
  },
  {
   "cell_type": "markdown",
   "metadata": {},
   "source": [
    "## (b) Details\n",
    "Here are some random samples generated from tail of a standard normal distribution when $d = 1, 3, 5, 7$."
   ]
  },
  {
   "cell_type": "code",
   "execution_count": 7,
   "metadata": {},
   "outputs": [
    {
     "name": "stdout",
     "output_type": "stream",
     "text": [
      "random samples generated from truncated normal distribution, d = 1, 3, 5, 7"
     ]
    },
    {
     "data": {
      "text/html": [
       "<table>\n",
       "<thead><tr><th scope=col>1</th><th scope=col>3</th><th scope=col>5</th><th scope=col>7</th></tr></thead>\n",
       "<tbody>\n",
       "\t<tr><td>3.040835</td><td>3.131044</td><td>5.389290</td><td>7.186755</td></tr>\n",
       "\t<tr><td>1.320584</td><td>3.387844</td><td>5.051107</td><td>7.238265</td></tr>\n",
       "\t<tr><td>1.584693</td><td>3.702092</td><td>5.133704</td><td>7.226739</td></tr>\n",
       "\t<tr><td>2.808587</td><td>3.446541</td><td>5.048883</td><td>7.027476</td></tr>\n",
       "\t<tr><td>1.821270</td><td>3.720499</td><td>5.182413</td><td>7.084731</td></tr>\n",
       "\t<tr><td>1.353542</td><td>3.676070</td><td>5.143730</td><td>7.050176</td></tr>\n",
       "\t<tr><td>1.775521</td><td>3.084172</td><td>5.117327</td><td>7.080486</td></tr>\n",
       "\t<tr><td>1.050506</td><td>3.551490</td><td>5.174406</td><td>7.287921</td></tr>\n",
       "\t<tr><td>1.493640</td><td>3.568631</td><td>5.083861</td><td>7.429499</td></tr>\n",
       "\t<tr><td>1.033487</td><td>3.385880</td><td>5.165718</td><td>7.075532</td></tr>\n",
       "</tbody>\n",
       "</table>\n"
      ],
      "text/latex": [
       "\\begin{tabular}{llll}\n",
       " 1 & 3 & 5 & 7\\\\\n",
       "\\hline\n",
       "\t 3.040835 & 3.131044 & 5.389290 & 7.186755\\\\\n",
       "\t 1.320584 & 3.387844 & 5.051107 & 7.238265\\\\\n",
       "\t 1.584693 & 3.702092 & 5.133704 & 7.226739\\\\\n",
       "\t 2.808587 & 3.446541 & 5.048883 & 7.027476\\\\\n",
       "\t 1.821270 & 3.720499 & 5.182413 & 7.084731\\\\\n",
       "\t 1.353542 & 3.676070 & 5.143730 & 7.050176\\\\\n",
       "\t 1.775521 & 3.084172 & 5.117327 & 7.080486\\\\\n",
       "\t 1.050506 & 3.551490 & 5.174406 & 7.287921\\\\\n",
       "\t 1.493640 & 3.568631 & 5.083861 & 7.429499\\\\\n",
       "\t 1.033487 & 3.385880 & 5.165718 & 7.075532\\\\\n",
       "\\end{tabular}\n"
      ],
      "text/markdown": [
       "\n",
       "| 1 | 3 | 5 | 7 |\n",
       "|---|---|---|---|\n",
       "| 3.040835 | 3.131044 | 5.389290 | 7.186755 |\n",
       "| 1.320584 | 3.387844 | 5.051107 | 7.238265 |\n",
       "| 1.584693 | 3.702092 | 5.133704 | 7.226739 |\n",
       "| 2.808587 | 3.446541 | 5.048883 | 7.027476 |\n",
       "| 1.821270 | 3.720499 | 5.182413 | 7.084731 |\n",
       "| 1.353542 | 3.676070 | 5.143730 | 7.050176 |\n",
       "| 1.775521 | 3.084172 | 5.117327 | 7.080486 |\n",
       "| 1.050506 | 3.551490 | 5.174406 | 7.287921 |\n",
       "| 1.493640 | 3.568631 | 5.083861 | 7.429499 |\n",
       "| 1.033487 | 3.385880 | 5.165718 | 7.075532 |\n",
       "\n"
      ],
      "text/plain": [
       "      1        3        5        7       \n",
       " [1,] 3.040835 3.131044 5.389290 7.186755\n",
       " [2,] 1.320584 3.387844 5.051107 7.238265\n",
       " [3,] 1.584693 3.702092 5.133704 7.226739\n",
       " [4,] 2.808587 3.446541 5.048883 7.027476\n",
       " [5,] 1.821270 3.720499 5.182413 7.084731\n",
       " [6,] 1.353542 3.676070 5.143730 7.050176\n",
       " [7,] 1.775521 3.084172 5.117327 7.080486\n",
       " [8,] 1.050506 3.551490 5.174406 7.287921\n",
       " [9,] 1.493640 3.568631 5.083861 7.429499\n",
       "[10,] 1.033487 3.385880 5.165718 7.075532"
      ]
     },
     "metadata": {},
     "output_type": "display_data"
    }
   ],
   "source": [
    "dvec <- c(1,3,5,7)\n",
    "sample1 <- sapply(dvec, function(x){rtnorm(10,x)})\n",
    "colnames(sample1) <- dvec\n",
    "cat(\"Tandom samples generated from truncated normal distribution, d = 1, 3, 5, 7\")\n",
    "sample1"
   ]
  },
  {
   "cell_type": "markdown",
   "metadata": {},
   "source": [
    "We can see that as $d$ increases, more samples are generated far from $d$.\n",
    "\n",
    "Also, we can obtain the mean of truncated standard normal distribution by\n",
    "\n",
    "$$\n",
    "\\mathbb{E}X = \\int_d^\\infty\\frac{1}{\\Phi^{-1}(d)}x\\phi(x)dx = \\frac{\\phi(d)}{\\Phi^{-1}(-d)} \n",
    "$$\n",
    "\n",
    "where $\\phi$ and $\\Phi$ are the pdf and the cdf of standard normal distribution respectively.\n",
    "\n",
    "So we can compare theoretical mean of truncated standard normal with the sample mean."
   ]
  },
  {
   "cell_type": "code",
   "execution_count": 8,
   "metadata": {},
   "outputs": [
    {
     "name": "stdout",
     "output_type": "stream",
     "text": [
      "sample means for d = 1, 3, 5, 7"
     ]
    },
    {
     "data": {
      "text/html": [
       "<ol class=list-inline>\n",
       "\t<li>1.51104966146325</li>\n",
       "\t<li>3.26936640965458</li>\n",
       "\t<li>5.18678675256878</li>\n",
       "\t<li>7.142338698849</li>\n",
       "</ol>\n"
      ],
      "text/latex": [
       "\\begin{enumerate*}\n",
       "\\item 1.51104966146325\n",
       "\\item 3.26936640965458\n",
       "\\item 5.18678675256878\n",
       "\\item 7.142338698849\n",
       "\\end{enumerate*}\n"
      ],
      "text/markdown": [
       "1. 1.51104966146325\n",
       "2. 3.26936640965458\n",
       "3. 5.18678675256878\n",
       "4. 7.142338698849\n",
       "\n",
       "\n"
      ],
      "text/plain": [
       "[1] 1.511050 3.269366 5.186787 7.142339"
      ]
     },
     "metadata": {},
     "output_type": "display_data"
    },
    {
     "name": "stdout",
     "output_type": "stream",
     "text": [
      "theoretical means for d = 1, 3, 5 ,7"
     ]
    },
    {
     "data": {
      "text/html": [
       "<ol class=list-inline>\n",
       "\t<li>1.52513527616098</li>\n",
       "\t<li>3.28309865493044</li>\n",
       "\t<li>5.18650396712584</li>\n",
       "\t<li>7.1375456132265</li>\n",
       "</ol>\n"
      ],
      "text/latex": [
       "\\begin{enumerate*}\n",
       "\\item 1.52513527616098\n",
       "\\item 3.28309865493044\n",
       "\\item 5.18650396712584\n",
       "\\item 7.1375456132265\n",
       "\\end{enumerate*}\n"
      ],
      "text/markdown": [
       "1. 1.52513527616098\n",
       "2. 3.28309865493044\n",
       "3. 5.18650396712584\n",
       "4. 7.1375456132265\n",
       "\n",
       "\n"
      ],
      "text/plain": [
       "[1] 1.525135 3.283099 5.186504 7.137546"
      ]
     },
     "metadata": {},
     "output_type": "display_data"
    }
   ],
   "source": [
    "cat(\"sample means for d = 1, 3, 5, 7\")\n",
    "sapply(dvec, function(x){mean(rtnorm(1000,x))})\n",
    "cat(\"theoretical means for d = 1, 3, 5 ,7\")\n",
    "sapply(dvec, function(x){dnorm(x)/pnorm(-x)})"
   ]
  },
  {
   "cell_type": "markdown",
   "metadata": {},
   "source": [
    "We can observe that the sample means are close to the theoretical mean because the sample size is large enough($n = 1000$).\n",
    "\n",
    "## (c) Figures and Tables\n",
    "The pdf of truncated normal distribution can be approximated by histogram of the samples."
   ]
  },
  {
   "cell_type": "code",
   "execution_count": 18,
   "metadata": {},
   "outputs": [
    {
     "name": "stdout",
     "output_type": "stream",
     "text": [
      "Histogram of the samples"
     ]
    },
    {
     "data": {
      "image/png": "[encoded data removed]",
      "text/plain": [
       "Plot with title \"d =  7\""
      ]
     },
     "metadata": {},
     "output_type": "display_data"
    }
   ],
   "source": [
    "par(mfrow = c(2,2))\n",
    "for(i in dvec){\n",
    "  hist(rtnorm(10000, i), xlim = c(0, 10), freq = FALSE, ylim = c(0, 5.5), xlab = NULL,\n",
    "       main = paste(\"d = \", i), breaks = 30)\n",
    "}\n",
    "cat(\"Histogram of the samples\")"
   ]
  },
  {
   "cell_type": "markdown",
   "metadata": {},
   "source": [
    "For $d = 1, 3 ,5 ,7$, the rejection rate(or acceptance rate) and its 95% confidence interval can be obtained. Then we can compare them with theoretical rejection rate."
   ]
  },
  {
   "cell_type": "code",
   "execution_count": 15,
   "metadata": {},
   "outputs": [
    {
     "data": {
      "text/html": [
       "<table>\n",
       "<thead><tr><th></th><th scope=col>theo.rr</th><th scope=col>simul.rr</th><th scope=col>upperCI</th><th scope=col>lowerCI</th></tr></thead>\n",
       "<tbody>\n",
       "\t<tr><th scope=row>1</th><td>0.34432046</td><td>0.34400420</td><td>0.35331486</td><td>0.33469354</td></tr>\n",
       "\t<tr><th scope=row>3</th><td>0.08622910</td><td>0.08675799</td><td>0.09227490</td><td>0.08124108</td></tr>\n",
       "\t<tr><th scope=row>5</th><td>0.03595948</td><td>0.03400309</td><td>0.03755527</td><td>0.03045091</td></tr>\n",
       "\t<tr><th scope=row>7</th><td>0.01927072</td><td>0.01787468</td><td>0.02047155</td><td>0.01527781</td></tr>\n",
       "</tbody>\n",
       "</table>\n"
      ],
      "text/latex": [
       "\\begin{tabular}{r|llll}\n",
       "  & theo.rr & simul.rr & upperCI & lowerCI\\\\\n",
       "\\hline\n",
       "\t1 & 0.34432046 & 0.34400420 & 0.35331486 & 0.33469354\\\\\n",
       "\t3 & 0.08622910 & 0.08675799 & 0.09227490 & 0.08124108\\\\\n",
       "\t5 & 0.03595948 & 0.03400309 & 0.03755527 & 0.03045091\\\\\n",
       "\t7 & 0.01927072 & 0.01787468 & 0.02047155 & 0.01527781\\\\\n",
       "\\end{tabular}\n"
      ],
      "text/markdown": [
       "\n",
       "| <!--/--> | theo.rr | simul.rr | upperCI | lowerCI |\n",
       "|---|---|---|---|---|\n",
       "| 1 | 0.34432046 | 0.34400420 | 0.35331486 | 0.33469354 |\n",
       "| 3 | 0.08622910 | 0.08675799 | 0.09227490 | 0.08124108 |\n",
       "| 5 | 0.03595948 | 0.03400309 | 0.03755527 | 0.03045091 |\n",
       "| 7 | 0.01927072 | 0.01787468 | 0.02047155 | 0.01527781 |\n",
       "\n"
      ],
      "text/plain": [
       "  theo.rr    simul.rr   upperCI    lowerCI   \n",
       "1 0.34432046 0.34400420 0.35331486 0.33469354\n",
       "3 0.08622910 0.08675799 0.09227490 0.08124108\n",
       "5 0.03595948 0.03400309 0.03755527 0.03045091\n",
       "7 0.01927072 0.01787468 0.02047155 0.01527781"
      ]
     },
     "metadata": {},
     "output_type": "display_data"
    }
   ],
   "source": [
    "table1 <- sapply(dvec, function(x){\n",
    "  simul.rr = 1 - rtnorm(10000, x, rate = TRUE)$rate\n",
    "  theo.rr = 1 - acceptrate(x)\n",
    "  sd = sqrt(simul.rr * (1 - simul.rr) / 10000)\n",
    "  upper = simul.rr + sd*qnorm(0.975)\n",
    "  lower = simul.rr - sd*qnorm(0.975)\n",
    "  return(c(theo.rr = theo.rr, simul.rr = simul.rr,\n",
    "           upperCI = upper, lowerCI = lower\n",
    "           ))})\n",
    "colnames(table1) <- dvec\n",
    "t(table1)"
   ]
  },
  {
   "cell_type": "markdown",
   "metadata": {},
   "source": [
    "It turns out that the theoretical rejection rates lie in the 95% confidence interval for the most cases.\n",
    "\n",
    "The acceptance rate can be computed and ploted for more general cases.. Here is the theoretical and simulated acceptance rate for $d \\in (0, 5)$"
   ]
  },
  {
   "cell_type": "code",
   "execution_count": 17,
   "metadata": {},
   "outputs": [
    {
     "data": {
      "image/png": "[encoded data removed]",
      "text/plain": [
       "Plot with title \"Acceptance rate\""
      ]
     },
     "metadata": {},
     "output_type": "display_data"
    }
   ],
   "source": [
    "par(mfrow = c(1,1))\n",
    "options(repr.plot.width=5, repr.plot.height=5)\n",
    "curve(acceptrate, xlim = c(0, 5), col = 4, ylab = \"p\", xlab = \"d\", main = \"Acceptance rate\")\n",
    "seq1 <- exp(seq(from = 0.01, to = log(6), length.out = 15)) - 1\n",
    "lines(x = seq1, y = sapply(seq1, function(x){rtnorm(10000, x, rate = TRUE)$rate}), col = 2)\n",
    "legend(\"bottomright\", c(\"Theoretical value\", \"Simulated value\"), col = c(4, 2), lty = 1)"
   ]
  },
  {
   "cell_type": "markdown",
   "metadata": {},
   "source": [
    "It is found that the theoretical and simulated acceptance rate are similar and they are increasing as $d$ increases."
   ]
  },
  {
   "cell_type": "markdown",
   "metadata": {},
   "source": [
    "# Problem 5\n",
    "## (a)\n",
    "Assume that first index of $a, r, c$ are 0.\n",
    "\n",
    "First, initialize $y$ to be $n$ dimensional 0 vector.\n",
    "\n",
    "Then, add each element in a to the appropriate element of y.\n",
    "\n",
    "The algorithm in pseudo-code is as follows:"
   ]
  },
  {
   "cell_type": "code",
   "execution_count": null,
   "metadata": {},
   "outputs": [],
   "source": [
    "x, a, r, c are given\n",
    "\n",
    "y[n] = {0} # initialize y to be n dimentional 0 vector\n",
    "c = c - c[0] # Set the first element of the index pointer to be 0.\n",
    "\n",
    "# j is the column index of W(j = 1, 2, ..., p+1)\n",
    "# k is the index of a (or r)\n",
    "for(j = 0, k = 0; k < length(a); k++){ \n",
    "    while(c[j+1] <= k){\n",
    "        j++\n",
    "    }\n",
    "    y[r[k]] += a[k]*x[j]\n",
    "}"
   ]
  },
  {
   "cell_type": "markdown",
   "metadata": {},
   "source": [
    "## (b)\n",
    "### i."
   ]
  },
  {
   "cell_type": "markdown",
   "metadata": {},
   "source": [
    "To develop a similar CCS-type strategy for storigng symmetric $p \\times p$ matrix $V$, identify a symmetric matrix with $p \\times p$ lower triangular matrix $L$. That is, \n",
    "\n",
    "The lower and diagonal element of $L$ is equal to $V$\n",
    "\n",
    "The upper element of element of $L$ is all zero.\n",
    "\n",
    "Then $V$ and $L$ are one-to-one and on-to in that $V =L + L^T - \\mathrm{diag}(L)$, $L =$ (lower and diagonal part of symmetric matrix $V$)\n",
    "\n",
    "Now, we can save storage by storing $L$ instead of $V$ by applying the very method suggested above."
   ]
  },
  {
   "cell_type": "markdown",
   "metadata": {},
   "source": [
    "### ii.\n",
    "Consdier an algorithm finding the $i$-th element $y_i$ of $y = Vx$. And suppose $V$ is stored in a way suggested above."
   ]
  },
  {
   "cell_type": "code",
   "execution_count": null,
   "metadata": {},
   "outputs": [],
   "source": [
    "x, a, r, c are given\n",
    "\n",
    "y = 0 # initialize y_j\n",
    "c = c - c[0] # Set the first element of the index pointer to be 0.\n",
    "\n",
    "# j is the column index of W(j = 1, 2, ..., p+1)\n",
    "# k is the index of a (or r)\n",
    "for(j = 0, k = 0; k < length(a); k++){ \n",
    "    while(c[j+1] <= k){\n",
    "        j++\n",
    "    }\n",
    "    if(r[k] == i){\n",
    "        y += a[k]*x[j]\n",
    "    }\n",
    "    if(j == i){\n",
    "        y += a[k]*x[r[k]]\n",
    "        break\n",
    "    }\n",
    "}"
   ]
  },
  {
   "cell_type": "markdown",
   "metadata": {},
   "source": [
    "# Problem 6"
   ]
  },
  {
   "cell_type": "markdown",
   "metadata": {},
   "source": [
    "## (c)\n",
    "For convenience, proof 6 - (c) first."
   ]
  },
  {
   "cell_type": "markdown",
   "metadata": {},
   "source": [
    "Since $\\hat{\\mu}_1$ and $\\hat{\\mu}_2$ do not change, we only focus on the change of\n",
    "\n",
    "$$\n",
    "\\sum_{i = 1}^{n_Y}||Y_i - \\bar{Y}||^2 + \\sum_{i = 1}^{n_Z}||Z_i - \\bar{Z}||^2\n",
    "$$\n",
    "\n",
    "Let $\\bar{Y}_0$ and $\\bar{Z}_0$ be existing sample mean and $\\bar{Y}$ and $\\bar{Z}$ be new sample mean. That is,\n",
    "\\begin{gather*}\n",
    "\\bar{Y}_0 = \\frac{1}{n_Y}\\sum_{i=1}^{n_Y}Y_i, \\ \\ \\bar{Z}_0 = \\frac{1}{n_Z}\\sum_{i=1}^{n_Z}Z_i \\\\\n",
    "\\bar{Y} = \\frac{1}{n_Y - 1}\\sum_{i=1}^{n_Y - 1}Y_i, \\ \\ \\bar{Z} = \\frac{1}{n_Z + 1}\\sum_{i=1}^{n_Z + 1}Z_i\n",
    "\\end{gather*}\n",
    "\n",
    "where $Z_{n_Z + 1} = Y_{n_Y}$\n",
    "\n",
    "Note the there is following relationship:\n",
    "\n",
    "$$\n",
    "\\bar{Y} = \\frac{n_Y\\bar{Y}_0 - Y_{n_Y}}{n_Y - 1},  \\ \\ \\bar{Z} = \\frac{n_Z\\bar{Z}_0 + Y_{n_Y}}{n_Z + 1}\n",
    "$$\n",
    "\n",
    "Write $WSS_{Y_0} = \\sum_{i = 1}^{n_Y}||Y_i - \\bar{Y}||^2$, $WSS_{Y} = \\sum_{i = 1}^{n_Y - 1}||Y_i - \\bar{Y}||^2$ and define $WSS_{Z_0}$ and $WSS_{Z}$ similarly.\n",
    "\n",
    "Now we try to express $WSS_{Y} - WSS_{Y_0}$ with respect to $Y_{n_Y}$ and $\\bar{Y}_0$\n",
    "\n",
    "\\begin{align*}\n",
    "WSS_{Y} &= \\sum_{i = 1}^{n_Y - 1}||Y_i - \\bar{Y}||^2 = \\sum_{i = 1}^{n_Y - 1}||Y_i||^2 - (n_Y-1)||\\bar{Y}||^2 \\\\\n",
    "&= \\sum_{i = 1}^{n_Y}||Y_i||^2 - n_Y||\\bar{Y_0}||^2 - ||Y_{n_Y}||^2 - \\frac{1}{n_Y - 1}||n_Y\\bar{Y_0} - Y_{n_Y}||^2 + n_Y||\\bar{Y_0}||^2 \\\\\n",
    "&= WSS_{Y_0}- ||Y_{n_Y}||^2 - \\frac{1}{n_Y - 1}||n_Y\\bar{Y_0} - Y_{n_Y}||^2 + n_Y||\\bar{Y_0}||^2\n",
    "\\end{align*}\n",
    "\n",
    "Hence,\n",
    "\n",
    "\\begin{align*}\n",
    "WSS_{Y} - WSS_{Y_0} &= -\\frac{n_Y}{n_Y - 1}||Y_{n_Y}||^2 + \\frac{2n_Y}{n_Y - 1}<\\bar{Y_0}, Y_{n_Y}> -\\frac{n_Y}{n_Y - 1}||\\bar{Y}_0||^2 \\\\\n",
    "&= -\\frac{n_Y}{n_Y - 1}||Y_{n_Y} - \\bar{Y}_0||^2\n",
    "\\end{align*}\n",
    "\n",
    "Similarly, we can express $WSS_{Z} - WSS_{Z_0}$ with respect to $Z_{n_Y}$ and $\\bar{Z}_0$\n",
    "\n",
    "\\begin{align*}\n",
    "WSS_{Z} &= \\sum_{i = 1}^{n_Z + 1}||Z_i - \\bar{Z}||^2 = \\sum_{i = 1}^{n_Z + 1}||Z_i||^2 - (n_Z+1)||\\bar{Z}||^2 \\\\\n",
    "&= \\sum_{i = 1}^{n_Z}||Z_i||^2 - n_Z||\\bar{Z_0}||^2 + ||Y_{n_Y}||^2 - \\frac{1}{n_Z + 1}||n_Z\\bar{Z_0} + Y_{n_Y}||^2 + n_Z||\\bar{Z_0}||^2 \\\\\n",
    "&= WSS_{Z_0} + ||Y_{n_Y}||^2 - \\frac{1}{n_Z + 1}||n_Z\\bar{Z_0} + Y_{n_Y}||^2 + n_Z||\\bar{Z_0}||^2\n",
    "\\end{align*}\n",
    "\n",
    "which implies\n",
    "\n",
    "\\begin{align*}\n",
    "WSS_{Z} - WSS_{Z_0} &= \\frac{n_Z}{n_Z + 1}||Y_{n_Y}||^2 - \\frac{2n_Z}{n_Z - 1}<\\bar{Z_0}, Y_{n_Y}> + \\frac{n_Z}{n_Z - 1}||\\bar{Z}_0||^2 \\\\\n",
    "&= \\frac{n_Z}{n_Z + 1}||Y_{n_Y} - \\bar{Z}_0||^2\n",
    "\\end{align*}\n",
    "\n",
    "Thus, the amount of change of total WSS is\n",
    "\n",
    "$$\n",
    "WSS - WSS_0 = WSS_{Y} - WSS_{Y_0} + WSS_{Z} - WSS_{Z_0} = -\\frac{n_Y}{n_Y - 1}||Y_{n_Y} - \\bar{Y}_0||^2 + \\frac{n_Z}{n_Z + 1}||Y_{n_Y} - \\bar{Z}_0||^2\n",
    "$$\n"
   ]
  },
  {
   "cell_type": "markdown",
   "metadata": {},
   "source": [
    "## (a)\n",
    "Now we go back to the problem 6 - (a).\n",
    "By identifying $(U, W)$ with $Y$ and $(V, X)$ with $Z$ in problem 6 - (c), we can follow the same steps tried above.\n",
    "Note, however that the existing sample mean is weighted mean.\n",
    "\n",
    "Thus, the amount of change of total WSS is\n",
    "$$\n",
    "WSS - WSS_0 = -\\frac{n_U + n_W}{n_U + n_W - 1}||W_{n_W} - \\frac{n_U\\bar{U}_0 + n_W\\bar{W}_0}{n_U + n_W}||^2 + \\frac{n_V + n_X}{n_V + n_X + 1}||W_{n_W} - \\frac{n_V\\bar{V}_0 + n_X\\bar{X}_0}{n_V + n_X}||^2\n",
    "$$\n",
    "\n",
    "where $\\bar{U}_0, \\bar{W}_0, \\bar{V}_0, \\bar{X}_0$ are existing sample means of $U, W, Y, X$."
   ]
  },
  {
   "cell_type": "markdown",
   "metadata": {},
   "source": [
    "## (b)\n",
    "Similarly, after identifying $(U, W)$ with $Y$ and $Y$ with $Z$ in problem 6 - (c), we get\n",
    "\n",
    "$$\n",
    "WSS - WSS_0 = -\\frac{n_U + n_W}{n_U + n_W - 1}||W_{n_W} - \\frac{n_U\\bar{U}_0 + n_W\\bar{W}_0}{n_U + n_W}||^2 +  \\frac{n_Y}{n_Y + 1}||W_{n_W} - \\bar{Y}_0||^2\n",
    "$$\n"
   ]
  },
  {
   "cell_type": "markdown",
   "metadata": {},
   "source": [
    "# Problem 7"
   ]
  },
  {
   "cell_type": "markdown",
   "metadata": {},
   "source": [
    "In problem 7, details about compiling procedure and discussions are provided as a comment in the code."
   ]
  },
  {
   "cell_type": "markdown",
   "metadata": {},
   "source": [
    "## a"
   ]
  },
  {
   "cell_type": "markdown",
   "metadata": {},
   "source": [
    "Observe that Celsious temperature($x$ºC) and the Fahrenheit temperature($y$ºF) has following relationship."
   ]
  },
  {
   "cell_type": "markdown",
   "metadata": {},
   "source": [
    "\\begin{gather*}\n",
    "(y°F − 32) × 5/9 = x°C \\\\\n",
    "(x°C × 9/5) + 32 = y°F\n",
    "\\end{gather*}"
   ]
  },
  {
   "cell_type": "markdown",
   "metadata": {},
   "source": [
    "Based on the formula, we can write a c program to covert temperature."
   ]
  },
  {
   "cell_type": "code",
   "execution_count": null,
   "metadata": {},
   "outputs": [],
   "source": [
    "/* \n",
    "@file temperature.c\n",
    "@author Yonghyun Kwon\n",
    "  - converts temperature from Faherheit to the Celsius scale and vice-versa.\n",
    "  - If the input value is 1, convert from F to C.\n",
    "  - If the input value if 2, convert form C to F.\n",
    "\n",
    "  -How to compile\n",
    "  gcc -o temperature temperature.c -ansi -Wall -pedantic\n",
    "\n",
    "  -How to excute\n",
    "  ./temperature  \n",
    "\n",
    "  -Results(Example)\n",
    "  First)\n",
    "  From Fahernheit to Celsius, enter 1\n",
    "  From Celsius to Fahernheit, enter 2\n",
    "  1\n",
    "  Enter a value: 0\n",
    "  0.00 F = -17.78 C\n",
    "\n",
    "  Second)\n",
    "  From Fahernheit to Celsius, enter 1\n",
    "  From Celsius to Fahernheit, enter 2\n",
    "  2\n",
    "  Enter a value: 0\n",
    "  0.00 C = 32.00 F\n",
    "\n",
    "  Third)\n",
    "  From Fahernheit to Celsius, enter 1\n",
    "  From Celsius to Fahernheit, enter 2\n",
    "  123\n",
    "  Please enter suitable input value(1 or 2)\n",
    "*/\n",
    "\n",
    "#include <stdio.h>\n",
    "\n",
    "int main(void){\n",
    "  int i; /* i is the indicator variable. If i == 1, F -> C; If i ==2, C -> F */\n",
    "  double i2, res; /* i2 is the input value; res is the output value */\n",
    "  printf(\"From Fahernheit to Celsius, enter 1\\nFrom Celsius to Fahernheit, enter 2\\n\");\n",
    "  scanf(\"%d\", &i);\n",
    "  if((i != 1) & (i != 2)){\n",
    "    printf(\"Please enter suitable input value(1 or 2)\\n\");\n",
    "    return 0;\n",
    "  }\n",
    "  printf(\"Enter a value: \");\n",
    "  scanf(\"%lf\", &i2);\n",
    "  if(i == 1){\n",
    "    res = (i2 -32) *5/9;\n",
    "    printf(\"%.2f F = %.2f C\\n\", i2, res);\n",
    "  }else if (i == 2){\n",
    "    res = (i2 * 9/5) + 32;\n",
    "    printf(\"%.2f C = %.2f F\\n\", i2, res);\n",
    "  }\n",
    "  return 0;\n",
    "}"
   ]
  },
  {
   "cell_type": "markdown",
   "metadata": {},
   "source": [
    "## b"
   ]
  },
  {
   "cell_type": "code",
   "execution_count": null,
   "metadata": {},
   "outputs": [],
   "source": [
    "/* @file product.c\n",
    " * @author Yonghyun Kwon\n",
    " *\n",
    " * How to compile\n",
    " * gcc -o product product.c -ansi -Wall -pedantic\n",
    " *\n",
    " * How to execute\n",
    " * ./product\n",
    " *\n",
    " * Results\n",
    " * Type short: 16384\n",
    " * Type int: 81920\n",
    "*/ \n",
    "\n",
    "# include <stdio.h>\n",
    "\n",
    "int main(void){\n",
    "  int i = 320; int j = 256;\n",
    "  short res1 = i * j;\n",
    "  int res2 = i * j;\n",
    "  printf(\"Type short:%d\\n\", res1);\n",
    "  printf(\"Type int:%d\\n\", res2);\n",
    "  return 0;\n",
    "}\n",
    "\n",
    "/* We can find out that the type short output is 16384\n",
    " * and the type int output is 81920, which is expected.\n",
    " * Storing as short type, arithmetic overflow occurs,\n",
    " * since the maximum value of short type is 2^15 - 1 = 32767\n",
    " * Short type consists of 2 Bytes(=16 Bits), so 82920(mod 2^16) = 16384 is obtained.\n",
    " * Storing as int type, however, artihmetic overflow does not occur,\n",
    " * since the maximum value of int type is 2^31 - 1.\n",
    " * Int type consists of 4 Bytes(=32 Bits) so 82920(mod 2^32) = 82920 is obtained.\n",
    "*/"
   ]
  }
 ],
 "metadata": {
  "kernelspec": {
   "display_name": "R",
   "language": "R",
   "name": "ir"
  },
  "language_info": {
   "codemirror_mode": "r",
   "file_extension": ".r",
   "mimetype": "text/x-r-source",
   "name": "R",
   "pygments_lexer": "r",
   "version": "3.6.1"
  }
 },
 "nbformat": 4,
 "nbformat_minor": 4
}
